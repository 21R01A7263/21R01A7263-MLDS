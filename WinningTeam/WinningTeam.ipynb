{
  "nbformat": 4,
  "nbformat_minor": 0,
  "metadata": {
    "colab": {
      "provenance": []
    },
    "kernelspec": {
      "name": "python3",
      "display_name": "Python 3"
    },
    "language_info": {
      "name": "python"
    }
  },
  "cells": [
    {
      "cell_type": "code",
      "execution_count": null,
      "metadata": {
        "id": "KBNU25_6P0nZ"
      },
      "outputs": [],
      "source": [
        "import pandas as pd\n",
        "import numpy as np\n",
        "import seaborn as sns\n",
        "sns.set_style(\"whitegrid\")\n",
        "import matplotlib.pyplot as plt\n",
        "import sklearn"
      ]
    },
    {
      "cell_type": "code",
      "source": [
        "data = pd.read_csv(\"matches.csv\")"
      ],
      "metadata": {
        "id": "bGQD6euRTtn2"
      },
      "execution_count": null,
      "outputs": []
    },
    {
      "cell_type": "code",
      "source": [
        "data.head()"
      ],
      "metadata": {
        "id": "RxPZ_CWlTy-b"
      },
      "execution_count": null,
      "outputs": []
    },
    {
      "cell_type": "code",
      "source": [
        "data.describe()"
      ],
      "metadata": {
        "id": "Ds7inKdLT0F8"
      },
      "execution_count": null,
      "outputs": []
    },
    {
      "cell_type": "code",
      "source": [
        "data.isnull().sum()"
      ],
      "metadata": {
        "id": "fij_p1WFT1ib"
      },
      "execution_count": null,
      "outputs": []
    },
    {
      "cell_type": "code",
      "source": [
        "data = data.iloc[:,:-1]\n",
        "data.dropna(inplace=True)"
      ],
      "metadata": {
        "id": "i21P9-9JT9BE"
      },
      "execution_count": null,
      "outputs": []
    },
    {
      "cell_type": "code",
      "source": [
        "data['team1'].unique()"
      ],
      "metadata": {
        "id": "QONk3yeJU1ZC"
      },
      "execution_count": null,
      "outputs": []
    },
    {
      "cell_type": "code",
      "source": [
        "data['team1'] = data['team1'].str.replace('Delhi Daredevils','Delhi Capitals')\n",
        "data['team2'] = data['team2'].str.replace('Delhi Daredevils','Delhi Capitals')\n",
        "data['winner'] = data['winner'].str.replace('Delhi Daredevils','Delhi Capitals')\n",
        "\n",
        "data['team1'] = data['team1'].str.replace('Deccan Chargers','Sunrisers Hyderabad')\n",
        "data['team2'] = data['team2'].str.replace('Deccan Chargers','Sunrisers Hyderabad')\n",
        "data['winner'] = data['winner'].str.replace('Deccan Chargers','Sunrisers Hyderabad')"
      ],
      "metadata": {
        "id": "vDLWBkpOWKgk"
      },
      "execution_count": null,
      "outputs": []
    },
    {
      "cell_type": "code",
      "source": [
        "plt.figure(figsize = (10,6))\n",
        "sns.countplot(y='winner',data = data, order = data['winner'].value_counts().index)\n",
        "plt.xlabel('Wins')\n",
        "plt.ylabel('Team')\n",
        "plt.title('Number of IPL matches won by each team')"
      ],
      "metadata": {
        "id": "EcwXr5sqX3xE"
      },
      "execution_count": null,
      "outputs": []
    },
    {
      "cell_type": "code",
      "source": [
        "plt.figure(figsize = (10,6))\n",
        "sns.countplot(y='venue',data = data, order = data['venue'].value_counts().iloc[:10].index)\n",
        "plt.xlabel('No of matches',fontsize=12)\n",
        "plt.ylabel('Venue',fontsize=12)\n",
        "plt.title('Total Number of matches played in different stadium')"
      ],
      "metadata": {
        "id": "qovYRVHcYnNM"
      },
      "execution_count": null,
      "outputs": []
    },
    {
      "cell_type": "code",
      "source": [
        "plt.figure(figsize = (10,6))\n",
        "sns.countplot(x='toss_decision',data=data)\n",
        "plt.xlabel('Toss Decision',fontsize=12)\n",
        "plt.ylabel('Count',fontsize=12)\n",
        "plt.title('Toss Decision')"
      ],
      "metadata": {
        "id": "bRbrSawKZQl0"
      },
      "execution_count": null,
      "outputs": []
    },
    {
      "cell_type": "code",
      "source": [
        "x = [\"city\",\"toss_decision\",\"result\",\"dl_applied\"]\n",
        "for i in x:\n",
        "  print(\"-----------------------\")\n",
        "  print(data[i].unique())\n",
        "  print(data[i].value_counts())"
      ],
      "metadata": {
        "id": "7tOtTz1bZ-a8"
      },
      "execution_count": null,
      "outputs": []
    },
    {
      "cell_type": "code",
      "source": [
        "data.drop([\"id\",\"season\",\"city\",\"date\",\"player_of_match\",\"umpire1\",\"venue\",\"umpire2\"],axis=1,inplace=True)"
      ],
      "metadata": {
        "id": "D2YxXr1qaptk"
      },
      "execution_count": null,
      "outputs": []
    },
    {
      "cell_type": "code",
      "source": [
        "X = data.drop(['winner'],axis=1)\n",
        "y = data['winner']"
      ],
      "metadata": {
        "id": "hjocnnApa9u7"
      },
      "execution_count": null,
      "outputs": []
    },
    {
      "cell_type": "code",
      "source": [
        "X = pd.get_dummies(X,[\"team1\",\"team2\",\"toss_winner\",\"toss_decision\",\"result\"],drop_first = True)"
      ],
      "metadata": {
        "id": "dcEU5eelbaRT"
      },
      "execution_count": null,
      "outputs": []
    },
    {
      "cell_type": "code",
      "source": [
        "from sklearn.preprocessing import LabelEncoder\n",
        "le = LabelEncoder()\n",
        "y = le.fit_transform(y)"
      ],
      "metadata": {
        "id": "9Yyr2UKpbojb"
      },
      "execution_count": null,
      "outputs": []
    },
    {
      "cell_type": "code",
      "source": [
        "from sklearn.model_selection import train_test_split\n",
        "x_train, x_test, y_train, y_test = train_test_split(X, y, train_size = 0.8)"
      ],
      "metadata": {
        "id": "YF5s805PbyHT"
      },
      "execution_count": null,
      "outputs": []
    },
    {
      "cell_type": "code",
      "source": [
        "from sklearn.ensemble import RandomForestClassifier\n",
        "model = RandomForestClassifier(n_estimators = 200, min_samples_split=3,max_features = \"auto\")"
      ],
      "metadata": {
        "id": "GmjmJxsDb-4S"
      },
      "execution_count": null,
      "outputs": []
    },
    {
      "cell_type": "code",
      "source": [
        "model.fit(x_train, y_train)"
      ],
      "metadata": {
        "id": "silf0thOcVyD"
      },
      "execution_count": null,
      "outputs": []
    },
    {
      "cell_type": "code",
      "source": [
        "y_pred = model.predict(x_test)"
      ],
      "metadata": {
        "id": "gr-bLMuJd0K7"
      },
      "execution_count": null,
      "outputs": []
    },
    {
      "cell_type": "code",
      "source": [
        "from sklearn.metrics import accuracy_score\n",
        "ac = accuracy_score(y_pred, y_test)\n",
        "ac"
      ],
      "metadata": {
        "id": "bnlwg57Jd30r"
      },
      "execution_count": null,
      "outputs": []
    }
  ]
}